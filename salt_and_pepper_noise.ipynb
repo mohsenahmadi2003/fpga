{
  "cells": [
    {
      "cell_type": "markdown",
      "source": [
        "# **`بخش اول گرفتن عکس و اعمال نویز نمک فلفل به عکس`**\n",
        "\n"
      ],
      "metadata": {
        "id": "8_B1Gpqk7mrA"
      }
    },
    {
      "cell_type": "code",
      "source": [
        "import cv2\n",
        "import numpy as np\n",
        "\n",
        "def salt_and_pepper_noise(image, prob):\n",
        "    \"\"\"\n",
        "    این تابع با احتمال `prob` برای هر پیکسل در تصویر، آن پیکسل را سفید یا سیاه می‌کند.\n",
        "    \"\"\"\n",
        "    output = np.zeros(image.shape,np.uint8)\n",
        "    thres = 1 - prob\n",
        "    for i in range(image.shape[0]):\n",
        "        for j in range(image.shape[1]):\n",
        "            rdn = np.random.random()\n",
        "            if rdn < prob:\n",
        "                output[i][j] = 0\n",
        "            elif rdn > thres:\n",
        "                output[i][j] = 255\n",
        "            else:\n",
        "                output[i][j] = image[i][j]\n",
        "    return output\n",
        "\n",
        "# خواندن تصویر\n",
        "image = cv2.imread(\"/content/Screenshot (41).png\")\n",
        "\n",
        "# اعمال نویز نمک و فلفل\n",
        "noisy_image = salt_and_pepper_noise(image, 0.036)\n",
        "\n",
        "cv2.waitKey(0)\n",
        "cv2.destroyAllWindows()\n",
        "\n",
        "# ذخیره تصویر با نویز به صورت باینری\n",
        "cv2.imwrite(\"/content/Screenshot42.png\", noisy_image)"
      ],
      "metadata": {
        "id": "ZvbrNoIzm-Ke"
      },
      "execution_count": null,
      "outputs": []
    },
    {
      "cell_type": "markdown",
      "source": [
        "# **`بخش دوم تقسیم کردن عکس به سه لایه سبز ، قرمز و آبی`**"
      ],
      "metadata": {
        "id": "3aeS7wjX8KZB"
      }
    },
    {
      "cell_type": "code",
      "source": [
        "import cv2\n",
        "import numpy as np\n",
        "\n",
        "# خواندن تصویر رنگی\n",
        "img = cv2.imread('/content/Screenshot42.png')\n",
        "\n",
        "# جداسازی لایه‌های R، G و B\n",
        "b, g, r = cv2.split(img)\n",
        "# تبدیل هر لایه به یک آرایه یک بعدی\n",
        "b_arr = np.ravel(b)\n",
        "g_arr = np.ravel(g)\n",
        "r_arr = np.ravel(r)\n",
        "\n",
        "# تبدیل هر آرایه به فایل باینری\n",
        "with open('/content/blue.txt', 'wb') as f:\n",
        "    f.write(np.unpackbits(b_arr))\n",
        "\n",
        "with open('/content/green.txt', 'wb') as f:\n",
        "    f.write(np.unpackbits(g_arr))\n",
        "\n",
        "with open('/content/red.txt', 'wb') as f:\n",
        "    f.write(np.unpackbits(r_arr))"
      ],
      "metadata": {
        "id": "OoQyy2MXnIWk"
      },
      "execution_count": null,
      "outputs": []
    },
    {
      "cell_type": "markdown",
      "source": [
        "# **`ادغام سه لایه جدا شده برای مطمئن شدن از درست بودن فایل های باینری`**"
      ],
      "metadata": {
        "id": "v_EVH0an9Hu2"
      }
    },
    {
      "cell_type": "code",
      "source": [
        "import cv2\n",
        "import numpy as np\n",
        "\n",
        "# باز کردن فایل‌های باینری\n",
        "with open('/content/blue.txt', 'rb') as f:\n",
        "    b_data = np.packbits(np.frombuffer(f.read(), dtype=np.uint8))\n",
        "print(b_data)\n",
        "with open('/content/green.txt', 'rb') as f:\n",
        "    g_data = np.packbits(np.frombuffer(f.read(), dtype=np.uint8))\n",
        "print(g_data)\n",
        "with open('/content/red.txt', 'rb') as f:\n",
        "    r_data = np.packbits(np.frombuffer(f.read(), dtype=np.uint8))\n",
        "print(r_data)\n",
        "# تبدیل آرایه اعداد صحیح به ابعاد اصلی تصویر\n",
        "height, width, _ = cv2.imread('/content/Screenshot42.png').shape\n",
        "b_arr = np.reshape(b_data, (height, width))\n",
        "g_arr = np.reshape(g_data, (height, width))\n",
        "r_arr = np.reshape(r_data, (height, width))\n",
        "\n",
        "\n",
        "# ترکیب لایه‌های B، G و R به یکدیگر\n",
        "img = cv2.merge((b_arr, g_arr, r_arr))\n",
        "# ذخیره تصویر بازسازی شده\n",
        "cv2.imwrite('/content/reconstructed_image.png', img)"
      ],
      "metadata": {
        "id": "WI-P2fATnMLr"
      },
      "execution_count": null,
      "outputs": []
    }
  ],
  "metadata": {
    "colab": {
      "provenance": []
    },
    "kernelspec": {
      "display_name": "Python 3",
      "name": "python3"
    }
  },
  "nbformat": 4,
  "nbformat_minor": 0
}